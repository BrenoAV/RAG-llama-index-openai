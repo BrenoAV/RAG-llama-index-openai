{
 "cells": [
  {
   "cell_type": "markdown",
   "id": "93360671-8713-421c-8c84-e430c5a96c80",
   "metadata": {},
   "source": [
    "# RAG llama-index and OpenAI\n",
    "\n",
    "A simple Retrieval Augmented Generation using Llama-index and OpenAI Key. The data is the first paragraph of the text available on: [https://en.wikipedia.org/wiki/Intuitive_Machines_Nova-C](https://en.wikipedia.org/wiki/Intuitive_Machines_Nova-C).\n",
    "\n",
    "**author:** brenoAV\n",
    "\n",
    "**last date modified:** 02-24-2024"
   ]
  },
  {
   "cell_type": "code",
   "execution_count": 1,
   "id": "62c2ba76-82c3-46e4-9de6-07a150d869fa",
   "metadata": {},
   "outputs": [],
   "source": [
    "import nest_asyncio\n",
    "import os\n",
    "\n",
    "from dotenv import dotenv_values\n",
    "from llama_index.core import VectorStoreIndex, SimpleDirectoryReader, ServiceContext\n",
    "from llama_index.core.node_parser import SimpleNodeParser\n",
    "from llama_index.llms.openai import OpenAI"
   ]
  },
  {
   "cell_type": "code",
   "execution_count": 2,
   "id": "91e98cde-96d3-488d-93c3-c6e3a9607eb7",
   "metadata": {},
   "outputs": [],
   "source": [
    "nest_asyncio.apply()"
   ]
  },
  {
   "cell_type": "code",
   "execution_count": 3,
   "id": "1559f129-32a9-4f2e-b84c-148fc9b19709",
   "metadata": {},
   "outputs": [],
   "source": [
    "os.environ[\"OPENAI_API_KEY\"] = dotenv_values(\".env\")[\"API_KEY\"]"
   ]
  },
  {
   "cell_type": "code",
   "execution_count": 4,
   "id": "34091551-3313-4a0d-91aa-4a1102f2e16e",
   "metadata": {},
   "outputs": [],
   "source": [
    "documents = SimpleDirectoryReader(\"data/\").load_data()\n",
    "\n",
    "# Define a LLM\n",
    "llm = OpenAI(model=\"gpt-3.5-turbo\")"
   ]
  },
  {
   "cell_type": "code",
   "execution_count": 5,
   "id": "a6321745-f12e-49a3-8623-41c6eb26bb70",
   "metadata": {},
   "outputs": [],
   "source": [
    "node_parser = SimpleNodeParser.from_defaults(chunk_size=512)\n",
    "nodes = node_parser.get_nodes_from_documents(documents=documents)\n",
    "vector_index = VectorStoreIndex(nodes)"
   ]
  },
  {
   "cell_type": "code",
   "execution_count": 6,
   "id": "e8b21b8d-118b-4ac5-a966-326271ae7754",
   "metadata": {},
   "outputs": [],
   "source": [
    "query_engine = vector_index.as_query_engine(similitary_top_k=2)"
   ]
  },
  {
   "cell_type": "code",
   "execution_count": 7,
   "id": "2621f12e-f18a-4e34-ad97-7706905f58af",
   "metadata": {},
   "outputs": [],
   "source": [
    "response_vector = query_engine.query(\"Which day was Odysseus launched?\")"
   ]
  },
  {
   "cell_type": "code",
   "execution_count": 8,
   "id": "35c1b2e6-8fe4-4f02-83a5-5e5fabb98d18",
   "metadata": {},
   "outputs": [
    {
     "data": {
      "text/plain": [
       "'Odysseus was launched on 15 February 2024.'"
      ]
     },
     "execution_count": 8,
     "metadata": {},
     "output_type": "execute_result"
    }
   ],
   "source": [
    "response_vector.response"
   ]
  },
  {
   "cell_type": "code",
   "execution_count": null,
   "id": "78bdba6c-2993-4328-a3e7-8980f33424a4",
   "metadata": {},
   "outputs": [],
   "source": []
  }
 ],
 "metadata": {
  "kernelspec": {
   "display_name": "Python 3 (ipykernel)",
   "language": "python",
   "name": "python3"
  },
  "language_info": {
   "codemirror_mode": {
    "name": "ipython",
    "version": 3
   },
   "file_extension": ".py",
   "mimetype": "text/x-python",
   "name": "python",
   "nbconvert_exporter": "python",
   "pygments_lexer": "ipython3",
   "version": "3.10.12"
  }
 },
 "nbformat": 4,
 "nbformat_minor": 5
}
